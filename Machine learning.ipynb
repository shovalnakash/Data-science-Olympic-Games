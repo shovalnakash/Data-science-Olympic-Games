{
 "cells": [
  {
   "cell_type": "markdown",
   "id": "e5661d1a",
   "metadata": {},
   "source": [
    "# MACHINE LEARNING"
   ]
  },
  {
   "cell_type": "markdown",
   "id": "9e9192b9",
   "metadata": {},
   "source": [
    "import librarys:"
   ]
  },
  {
   "cell_type": "code",
   "execution_count": 1,
   "id": "1b97e85e",
   "metadata": {},
   "outputs": [],
   "source": [
    "import math\n",
    "import pandas as pd\n",
    "import sklearn\n",
    "import numpy as np\n",
    "from sklearn import linear_model, metrics, preprocessing\n",
    "from sklearn.preprocessing import StandardScaler, MinMaxScaler\n",
    "from sklearn.linear_model import LinearRegression\n",
    "from sklearn.metrics import r2_score, mean_squared_error\n",
    "from sklearn.model_selection import train_test_split\n",
    "from sklearn.metrics import accuracy_score, precision_score, recall_score, f1_score, confusion_matrix\n",
    "from sklearn.metrics import make_scorer\n",
    "from sklearn.linear_model import Ridge\n",
    "from sklearn.linear_model import Lasso\n",
    "from sklearn.linear_model import ElasticNet\n",
    "\n",
    "\n",
    "import warnings\n",
    "warnings.filterwarnings(\"ignore\")"
   ]
  },
  {
   "cell_type": "markdown",
   "id": "0833edde",
   "metadata": {},
   "source": [
    "import our data with func corr() for checking conection"
   ]
  },
  {
   "cell_type": "code",
   "execution_count": 2,
   "id": "a4658467",
   "metadata": {},
   "outputs": [
    {
     "data": {
      "text/html": [
       "<div>\n",
       "<style scoped>\n",
       "    .dataframe tbody tr th:only-of-type {\n",
       "        vertical-align: middle;\n",
       "    }\n",
       "\n",
       "    .dataframe tbody tr th {\n",
       "        vertical-align: top;\n",
       "    }\n",
       "\n",
       "    .dataframe thead th {\n",
       "        text-align: right;\n",
       "    }\n",
       "</style>\n",
       "<table border=\"1\" class=\"dataframe\">\n",
       "  <thead>\n",
       "    <tr style=\"text-align: right;\">\n",
       "      <th></th>\n",
       "      <th>Age</th>\n",
       "      <th>Height, cm</th>\n",
       "      <th>Weight</th>\n",
       "      <th>Place of birth</th>\n",
       "      <th>Gold</th>\n",
       "      <th>Silver</th>\n",
       "      <th>Bronze</th>\n",
       "      <th>Total</th>\n",
       "      <th>Sport</th>\n",
       "      <th>Sex_F</th>\n",
       "      <th>Sex_M</th>\n",
       "    </tr>\n",
       "  </thead>\n",
       "  <tbody>\n",
       "    <tr>\n",
       "      <th>Age</th>\n",
       "      <td>1.000000</td>\n",
       "      <td>0.039305</td>\n",
       "      <td>0.103310</td>\n",
       "      <td>-0.014724</td>\n",
       "      <td>-0.020383</td>\n",
       "      <td>-0.006974</td>\n",
       "      <td>-0.012178</td>\n",
       "      <td>-0.020397</td>\n",
       "      <td>0.116798</td>\n",
       "      <td>-0.099207</td>\n",
       "      <td>0.099207</td>\n",
       "    </tr>\n",
       "    <tr>\n",
       "      <th>Height, cm</th>\n",
       "      <td>0.039305</td>\n",
       "      <td>1.000000</td>\n",
       "      <td>0.724469</td>\n",
       "      <td>-0.006657</td>\n",
       "      <td>0.020318</td>\n",
       "      <td>0.018645</td>\n",
       "      <td>0.007083</td>\n",
       "      <td>0.023525</td>\n",
       "      <td>0.073013</td>\n",
       "      <td>-0.560025</td>\n",
       "      <td>0.560025</td>\n",
       "    </tr>\n",
       "    <tr>\n",
       "      <th>Weight</th>\n",
       "      <td>0.103310</td>\n",
       "      <td>0.724469</td>\n",
       "      <td>1.000000</td>\n",
       "      <td>0.014911</td>\n",
       "      <td>0.009169</td>\n",
       "      <td>0.011552</td>\n",
       "      <td>0.014531</td>\n",
       "      <td>0.018063</td>\n",
       "      <td>0.040435</td>\n",
       "      <td>-0.515578</td>\n",
       "      <td>0.515578</td>\n",
       "    </tr>\n",
       "    <tr>\n",
       "      <th>Place of birth</th>\n",
       "      <td>-0.014724</td>\n",
       "      <td>-0.006657</td>\n",
       "      <td>0.014911</td>\n",
       "      <td>1.000000</td>\n",
       "      <td>0.013725</td>\n",
       "      <td>-0.007011</td>\n",
       "      <td>0.011744</td>\n",
       "      <td>0.009749</td>\n",
       "      <td>-0.050803</td>\n",
       "      <td>0.026806</td>\n",
       "      <td>-0.026806</td>\n",
       "    </tr>\n",
       "    <tr>\n",
       "      <th>Gold</th>\n",
       "      <td>-0.020383</td>\n",
       "      <td>0.020318</td>\n",
       "      <td>0.009169</td>\n",
       "      <td>0.013725</td>\n",
       "      <td>1.000000</td>\n",
       "      <td>0.243495</td>\n",
       "      <td>0.079595</td>\n",
       "      <td>0.682709</td>\n",
       "      <td>0.011434</td>\n",
       "      <td>0.001865</td>\n",
       "      <td>-0.001865</td>\n",
       "    </tr>\n",
       "    <tr>\n",
       "      <th>Silver</th>\n",
       "      <td>-0.006974</td>\n",
       "      <td>0.018645</td>\n",
       "      <td>0.011552</td>\n",
       "      <td>-0.007011</td>\n",
       "      <td>0.243495</td>\n",
       "      <td>1.000000</td>\n",
       "      <td>0.083384</td>\n",
       "      <td>0.667589</td>\n",
       "      <td>0.007274</td>\n",
       "      <td>0.008527</td>\n",
       "      <td>-0.008527</td>\n",
       "    </tr>\n",
       "    <tr>\n",
       "      <th>Bronze</th>\n",
       "      <td>-0.012178</td>\n",
       "      <td>0.007083</td>\n",
       "      <td>0.014531</td>\n",
       "      <td>0.011744</td>\n",
       "      <td>0.079595</td>\n",
       "      <td>0.083384</td>\n",
       "      <td>1.000000</td>\n",
       "      <td>0.602124</td>\n",
       "      <td>0.002490</td>\n",
       "      <td>0.008440</td>\n",
       "      <td>-0.008440</td>\n",
       "    </tr>\n",
       "    <tr>\n",
       "      <th>Total</th>\n",
       "      <td>-0.020397</td>\n",
       "      <td>0.023525</td>\n",
       "      <td>0.018063</td>\n",
       "      <td>0.009749</td>\n",
       "      <td>0.682709</td>\n",
       "      <td>0.667589</td>\n",
       "      <td>0.602124</td>\n",
       "      <td>1.000000</td>\n",
       "      <td>0.010861</td>\n",
       "      <td>0.009596</td>\n",
       "      <td>-0.009596</td>\n",
       "    </tr>\n",
       "    <tr>\n",
       "      <th>Sport</th>\n",
       "      <td>0.116798</td>\n",
       "      <td>0.073013</td>\n",
       "      <td>0.040435</td>\n",
       "      <td>-0.050803</td>\n",
       "      <td>0.011434</td>\n",
       "      <td>0.007274</td>\n",
       "      <td>0.002490</td>\n",
       "      <td>0.010861</td>\n",
       "      <td>1.000000</td>\n",
       "      <td>-0.015648</td>\n",
       "      <td>0.015648</td>\n",
       "    </tr>\n",
       "    <tr>\n",
       "      <th>Sex_F</th>\n",
       "      <td>-0.099207</td>\n",
       "      <td>-0.560025</td>\n",
       "      <td>-0.515578</td>\n",
       "      <td>0.026806</td>\n",
       "      <td>0.001865</td>\n",
       "      <td>0.008527</td>\n",
       "      <td>0.008440</td>\n",
       "      <td>0.009596</td>\n",
       "      <td>-0.015648</td>\n",
       "      <td>1.000000</td>\n",
       "      <td>-1.000000</td>\n",
       "    </tr>\n",
       "    <tr>\n",
       "      <th>Sex_M</th>\n",
       "      <td>0.099207</td>\n",
       "      <td>0.560025</td>\n",
       "      <td>0.515578</td>\n",
       "      <td>-0.026806</td>\n",
       "      <td>-0.001865</td>\n",
       "      <td>-0.008527</td>\n",
       "      <td>-0.008440</td>\n",
       "      <td>-0.009596</td>\n",
       "      <td>0.015648</td>\n",
       "      <td>-1.000000</td>\n",
       "      <td>1.000000</td>\n",
       "    </tr>\n",
       "  </tbody>\n",
       "</table>\n",
       "</div>"
      ],
      "text/plain": [
       "                     Age  Height, cm    Weight  Place of birth      Gold  \\\n",
       "Age             1.000000    0.039305  0.103310       -0.014724 -0.020383   \n",
       "Height, cm      0.039305    1.000000  0.724469       -0.006657  0.020318   \n",
       "Weight          0.103310    0.724469  1.000000        0.014911  0.009169   \n",
       "Place of birth -0.014724   -0.006657  0.014911        1.000000  0.013725   \n",
       "Gold           -0.020383    0.020318  0.009169        0.013725  1.000000   \n",
       "Silver         -0.006974    0.018645  0.011552       -0.007011  0.243495   \n",
       "Bronze         -0.012178    0.007083  0.014531        0.011744  0.079595   \n",
       "Total          -0.020397    0.023525  0.018063        0.009749  0.682709   \n",
       "Sport           0.116798    0.073013  0.040435       -0.050803  0.011434   \n",
       "Sex_F          -0.099207   -0.560025 -0.515578        0.026806  0.001865   \n",
       "Sex_M           0.099207    0.560025  0.515578       -0.026806 -0.001865   \n",
       "\n",
       "                  Silver    Bronze     Total     Sport     Sex_F     Sex_M  \n",
       "Age            -0.006974 -0.012178 -0.020397  0.116798 -0.099207  0.099207  \n",
       "Height, cm      0.018645  0.007083  0.023525  0.073013 -0.560025  0.560025  \n",
       "Weight          0.011552  0.014531  0.018063  0.040435 -0.515578  0.515578  \n",
       "Place of birth -0.007011  0.011744  0.009749 -0.050803  0.026806 -0.026806  \n",
       "Gold            0.243495  0.079595  0.682709  0.011434  0.001865 -0.001865  \n",
       "Silver          1.000000  0.083384  0.667589  0.007274  0.008527 -0.008527  \n",
       "Bronze          0.083384  1.000000  0.602124  0.002490  0.008440 -0.008440  \n",
       "Total           0.667589  0.602124  1.000000  0.010861  0.009596 -0.009596  \n",
       "Sport           0.007274  0.002490  0.010861  1.000000 -0.015648  0.015648  \n",
       "Sex_F           0.008527  0.008440  0.009596 -0.015648  1.000000 -1.000000  \n",
       "Sex_M          -0.008527 -0.008440 -0.009596  0.015648 -1.000000  1.000000  "
      ]
     },
     "execution_count": 2,
     "metadata": {},
     "output_type": "execute_result"
    }
   ],
   "source": [
    "df = pd.read_csv(\"All London 2012 athletes numeric only.csv\")\n",
    "df.corr()"
   ]
  },
  {
   "cell_type": "code",
   "execution_count": 3,
   "id": "26f080d8",
   "metadata": {},
   "outputs": [],
   "source": [
    "x = df[df.columns[df.columns != 'Total']]\n",
    "y = df['Total']"
   ]
  },
  {
   "cell_type": "code",
   "execution_count": 4,
   "id": "23f09dc1",
   "metadata": {},
   "outputs": [
    {
     "data": {
      "text/html": [
       "<div>\n",
       "<style scoped>\n",
       "    .dataframe tbody tr th:only-of-type {\n",
       "        vertical-align: middle;\n",
       "    }\n",
       "\n",
       "    .dataframe tbody tr th {\n",
       "        vertical-align: top;\n",
       "    }\n",
       "\n",
       "    .dataframe thead th {\n",
       "        text-align: right;\n",
       "    }\n",
       "</style>\n",
       "<table border=\"1\" class=\"dataframe\">\n",
       "  <thead>\n",
       "    <tr style=\"text-align: right;\">\n",
       "      <th></th>\n",
       "      <th>Age</th>\n",
       "      <th>Height, cm</th>\n",
       "      <th>Weight</th>\n",
       "      <th>Place of birth</th>\n",
       "      <th>Gold</th>\n",
       "      <th>Silver</th>\n",
       "      <th>Bronze</th>\n",
       "      <th>Sport</th>\n",
       "      <th>Sex_F</th>\n",
       "      <th>Sex_M</th>\n",
       "    </tr>\n",
       "  </thead>\n",
       "  <tbody>\n",
       "    <tr>\n",
       "      <th>0</th>\n",
       "      <td>23</td>\n",
       "      <td>170.0</td>\n",
       "      <td>60.0</td>\n",
       "      <td>37</td>\n",
       "      <td>0</td>\n",
       "      <td>0</td>\n",
       "      <td>0</td>\n",
       "      <td>1</td>\n",
       "      <td>0</td>\n",
       "      <td>1</td>\n",
       "    </tr>\n",
       "    <tr>\n",
       "      <th>1</th>\n",
       "      <td>33</td>\n",
       "      <td>193.0</td>\n",
       "      <td>125.0</td>\n",
       "      <td>186</td>\n",
       "      <td>0</td>\n",
       "      <td>0</td>\n",
       "      <td>0</td>\n",
       "      <td>2</td>\n",
       "      <td>0</td>\n",
       "      <td>1</td>\n",
       "    </tr>\n",
       "    <tr>\n",
       "      <th>2</th>\n",
       "      <td>30</td>\n",
       "      <td>187.0</td>\n",
       "      <td>76.0</td>\n",
       "      <td>62</td>\n",
       "      <td>0</td>\n",
       "      <td>0</td>\n",
       "      <td>0</td>\n",
       "      <td>2</td>\n",
       "      <td>0</td>\n",
       "      <td>1</td>\n",
       "    </tr>\n",
       "    <tr>\n",
       "      <th>3</th>\n",
       "      <td>26</td>\n",
       "      <td>178.0</td>\n",
       "      <td>85.0</td>\n",
       "      <td>151</td>\n",
       "      <td>0</td>\n",
       "      <td>0</td>\n",
       "      <td>0</td>\n",
       "      <td>2</td>\n",
       "      <td>1</td>\n",
       "      <td>0</td>\n",
       "    </tr>\n",
       "    <tr>\n",
       "      <th>4</th>\n",
       "      <td>27</td>\n",
       "      <td>190.0</td>\n",
       "      <td>80.0</td>\n",
       "      <td>89</td>\n",
       "      <td>0</td>\n",
       "      <td>0</td>\n",
       "      <td>0</td>\n",
       "      <td>2</td>\n",
       "      <td>0</td>\n",
       "      <td>1</td>\n",
       "    </tr>\n",
       "  </tbody>\n",
       "</table>\n",
       "</div>"
      ],
      "text/plain": [
       "   Age  Height, cm  Weight  Place of birth  Gold  Silver  Bronze  Sport  \\\n",
       "0   23       170.0    60.0              37     0       0       0      1   \n",
       "1   33       193.0   125.0             186     0       0       0      2   \n",
       "2   30       187.0    76.0              62     0       0       0      2   \n",
       "3   26       178.0    85.0             151     0       0       0      2   \n",
       "4   27       190.0    80.0              89     0       0       0      2   \n",
       "\n",
       "   Sex_F  Sex_M  \n",
       "0      0      1  \n",
       "1      0      1  \n",
       "2      0      1  \n",
       "3      1      0  \n",
       "4      0      1  "
      ]
     },
     "execution_count": 4,
     "metadata": {},
     "output_type": "execute_result"
    }
   ],
   "source": [
    "x.head()"
   ]
  },
  {
   "cell_type": "code",
   "execution_count": 5,
   "id": "3f29990d",
   "metadata": {},
   "outputs": [
    {
     "data": {
      "text/plain": [
       "0    0\n",
       "1    0\n",
       "2    0\n",
       "3    0\n",
       "4    0\n",
       "Name: Total, dtype: int64"
      ]
     },
     "execution_count": 5,
     "metadata": {},
     "output_type": "execute_result"
    }
   ],
   "source": [
    "y.head()"
   ]
  },
  {
   "cell_type": "code",
   "execution_count": 6,
   "id": "28a2f8f5",
   "metadata": {},
   "outputs": [
    {
     "name": "stdout",
     "output_type": "stream",
     "text": [
      "Mean:  [ 1.91047197e-16 -2.94212684e-16 -2.58295811e-16  1.22270206e-16\n",
      "  3.05675515e-18  5.34932152e-18 -3.66810619e-17  5.34932152e-18\n",
      "  4.54692329e-17 -4.54692329e-17]\n",
      "Standard Deviation:  [1. 1. 1. 1. 1. 1. 1. 1. 1. 1.]\n"
     ]
    }
   ],
   "source": [
    "X_train, X_test, y_train, y_test = train_test_split(x, y, test_size=0.2, random_state=42) \n",
    "scaler = StandardScaler()\n",
    "X_train_scaled = scaler.fit_transform(X_train)\n",
    "print(\"Mean: \", X_train_scaled.mean(axis=0))\n",
    "print(\"Standard Deviation: \", X_train_scaled.std(axis=0))\n",
    "\n"
   ]
  },
  {
   "cell_type": "markdown",
   "id": "233b049f",
   "metadata": {},
   "source": [
    "im using linear regression as the type of machine learning, i checked the result- 1.0 - too good."
   ]
  },
  {
   "cell_type": "code",
   "execution_count": 7,
   "id": "3e2efe08",
   "metadata": {},
   "outputs": [
    {
     "name": "stdout",
     "output_type": "stream",
     "text": [
      "1.0\n"
     ]
    }
   ],
   "source": [
    "regrs = LinearRegression() \n",
    "regrs.fit(X_train, y_train)\n",
    "acc = regrs.score(X_test, y_test)\n",
    "\n",
    "print(acc)"
   ]
  },
  {
   "cell_type": "markdown",
   "id": "b7acf1dc",
   "metadata": {},
   "source": [
    "i tried to drop columns and check the result again"
   ]
  },
  {
   "cell_type": "code",
   "execution_count": 8,
   "id": "dcfa4c51",
   "metadata": {},
   "outputs": [
    {
     "name": "stdout",
     "output_type": "stream",
     "text": [
      "0.0009101337855256242\n"
     ]
    }
   ],
   "source": [
    "X = df.drop(['Gold', 'Silver', 'Bronze', 'Total','Sex_F'], axis=1)\n",
    "y = df['Total']\n",
    "\n",
    "X_train, X_test, y_train, y_test = train_test_split(X, y, test_size=0.2, random_state=42) \n",
    "\n",
    "regrs = LinearRegression() \n",
    "regrs.fit(X_train, y_train)\n",
    "acc = regrs.score(X_test, y_test)\n",
    "\n",
    "print(acc)\n"
   ]
  },
  {
   "cell_type": "markdown",
   "id": "7a3d4ef7",
   "metadata": {},
   "source": [
    "the result still not good for us, so i made a new column that calculate the BMI index:"
   ]
  },
  {
   "cell_type": "code",
   "execution_count": null,
   "id": "d341fcd9",
   "metadata": {},
   "outputs": [],
   "source": [
    "df[\"BMI\"] = df[\"Weight\"] /df[\"Height, cm\"] * 100\n",
    "df.corr()"
   ]
  },
  {
   "cell_type": "code",
   "execution_count": 10,
   "id": "2f9f65c3",
   "metadata": {},
   "outputs": [
    {
     "name": "stdout",
     "output_type": "stream",
     "text": [
      "0.0009101337855256242\n"
     ]
    }
   ],
   "source": [
    "X_train, X_test, y_train, y_test = train_test_split(X, y, test_size=0.2, random_state=42) \n",
    "\n",
    "regrs = LinearRegression() \n",
    "regrs.fit(X_train, y_train)\n",
    "acc = regrs.score(X_test, y_test)\n",
    "\n",
    "print(acc)\n"
   ]
  },
  {
   "cell_type": "markdown",
   "id": "e3588a21",
   "metadata": {},
   "source": [
    "checking the error:"
   ]
  },
  {
   "cell_type": "code",
   "execution_count": 11,
   "id": "1faceeca",
   "metadata": {},
   "outputs": [
    {
     "name": "stdout",
     "output_type": "stream",
     "text": [
      "MSE: 0.08573489603249931\n",
      "R^2: 0.0009101337855256242\n"
     ]
    }
   ],
   "source": [
    "y_pred = regrs.predict(X_test)\n",
    "print('MSE:',mean_squared_error(y_test, y_pred))\n",
    "print('R^2:',r2_score(y_test, y_pred))"
   ]
  },
  {
   "cell_type": "code",
   "execution_count": 12,
   "id": "91bbd179",
   "metadata": {},
   "outputs": [
    {
     "name": "stdout",
     "output_type": "stream",
     "text": [
      "[0.05823727 0.03332355 0.04009159 ... 0.04718356 0.03265798 0.03995343]\n"
     ]
    }
   ],
   "source": [
    "print(y_pred)\n"
   ]
  },
  {
   "cell_type": "code",
   "execution_count": 13,
   "id": "4f4ae296",
   "metadata": {},
   "outputs": [
    {
     "name": "stdout",
     "output_type": "stream",
     "text": [
      "239     0\n",
      "132     0\n",
      "3246    1\n",
      "4498    0\n",
      "3862    0\n",
      "       ..\n",
      "479     0\n",
      "2596    0\n",
      "798     0\n",
      "4077    0\n",
      "2812    0\n",
      "Name: Total, Length: 1163, dtype: int64\n"
     ]
    }
   ],
   "source": [
    "print(y_test)"
   ]
  },
  {
   "cell_type": "markdown",
   "id": "d06291cd",
   "metadata": {},
   "source": [
    "and try it again, now with another target column (that can be the same for our question)"
   ]
  },
  {
   "cell_type": "code",
   "execution_count": 14,
   "id": "92b3cb16",
   "metadata": {},
   "outputs": [
    {
     "name": "stdout",
     "output_type": "stream",
     "text": [
      "0.10827904446059733\n"
     ]
    }
   ],
   "source": [
    "X = df.drop(['Place of birth','Gold','Total','Sex_F', 'Sex_M','Sport'], axis=1)\n",
    "y = df['Gold']\n",
    "\n",
    "X_train, X_test, y_train, y_test = train_test_split(X, y, test_size=0.2, random_state=42) \n",
    "\n",
    "regrs = LinearRegression() \n",
    "regrs.fit(X_train, y_train)\n",
    "acc = regrs.score(X_test, y_test)\n",
    "\n",
    "print(acc)\n"
   ]
  },
  {
   "cell_type": "markdown",
   "id": "1b5f6b2f",
   "metadata": {},
   "source": [
    "checking if any other method get a better result- like you can see- no"
   ]
  },
  {
   "cell_type": "code",
   "execution_count": 16,
   "id": "90ae1170",
   "metadata": {},
   "outputs": [],
   "source": [
    "linreg = LinearRegression().fit(X_train, y_train)\n",
    "lasso = Lasso().fit(X_train, y_train)\n",
    "elasticnet = ElasticNet().fit(X_train, y_train)\n",
    "ridge = Ridge().fit(X_train,y_train)"
   ]
  },
  {
   "cell_type": "code",
   "execution_count": 17,
   "id": "fdbd349b",
   "metadata": {},
   "outputs": [
    {
     "name": "stdout",
     "output_type": "stream",
     "text": [
      "Linear Regression:\n",
      "\n",
      "R2 Score:  0.10827904446059733\n",
      "MSE Score:  0.01893055032117283\n",
      "\n",
      "Lasso:\n",
      "\n",
      "R2 Score:  -3.402187487688835e-05\n",
      "MSE Score:  0.021229953447192133\n",
      "\n",
      "Elastic Net:\n",
      "\n",
      "R2 Score:  -3.402187487688835e-05\n",
      "MSE Score:  0.021229953447192133\n",
      "\n",
      "Ridge:\n",
      "\n",
      "R2 Score:  0.10746290072240516\n",
      "MSE Score:  0.01894787642527432\n"
     ]
    }
   ],
   "source": [
    "print(\"Linear Regression:\\n\")\n",
    "y_pred1 = linreg.predict(X_test)\n",
    "print(\"R2 Score: \", r2_score(y_test, y_pred1))\n",
    "print(\"MSE Score: \", mean_squared_error(y_test, y_pred1))\n",
    "print(\"\\nLasso:\\n\")\n",
    "y_pred2 = lasso.predict(X_test)\n",
    "print(\"R2 Score: \", r2_score(y_test, y_pred2))\n",
    "print(\"MSE Score: \", mean_squared_error(y_test, y_pred2))\n",
    "print(\"\\nElastic Net:\\n\")\n",
    "y_pred3 = elasticnet.predict(X_test)\n",
    "print(\"R2 Score: \", r2_score(y_test, y_pred3))\n",
    "print(\"MSE Score: \", mean_squared_error(y_test, y_pred3))\n",
    "print(\"\\nRidge:\\n\")\n",
    "y_pred4 = ridge.predict(X_test)\n",
    "print(\"R2 Score: \", r2_score(y_test, y_pred4))\n",
    "print(\"MSE Score: \", mean_squared_error(y_test, y_pred4))"
   ]
  },
  {
   "cell_type": "code",
   "execution_count": null,
   "id": "4c699ecb",
   "metadata": {},
   "outputs": [],
   "source": []
  }
 ],
 "metadata": {
  "kernelspec": {
   "display_name": "Python 3",
   "language": "python",
   "name": "python3"
  },
  "language_info": {
   "codemirror_mode": {
    "name": "ipython",
    "version": 3
   },
   "file_extension": ".py",
   "mimetype": "text/x-python",
   "name": "python",
   "nbconvert_exporter": "python",
   "pygments_lexer": "ipython3",
   "version": "3.8.8"
  }
 },
 "nbformat": 4,
 "nbformat_minor": 5
}
